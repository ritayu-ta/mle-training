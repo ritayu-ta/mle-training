{
 "cells": [
  {
   "cell_type": "code",
   "execution_count": 1,
   "metadata": {},
   "outputs": [],
   "source": [
    "import os\n",
    "import warnings\n",
    "import sys\n",
    "\n",
    "import mlflow\n",
    "import mlflow.sklearn"
   ]
  },
  {
   "cell_type": "code",
   "execution_count": 2,
   "metadata": {},
   "outputs": [],
   "source": [
    "# setting up mlflow and defining experiment\n",
    "# run below command on terminal\n",
    "# mlflow server --backend-store-uri mlruns/ --default-artifact-root mlruns/ --host localhost --port 5000\n",
    "remote_server_uri = \"http://127.0.0.1:5000\" \n",
    "mlflow.set_tracking_uri(remote_server_uri) "
   ]
  },
  {
   "cell_type": "code",
   "execution_count": 7,
   "metadata": {},
   "outputs": [],
   "source": [
    "exp_name = \"Regression_Price\"\n",
    "#mlflow.set_experiment(exp_name)\n",
    "experiment_id = mlflow.create_experiment(exp_name)"
   ]
  },
  {
   "cell_type": "code",
   "execution_count": 9,
   "metadata": {},
   "outputs": [],
   "source": [
    "def run_experiment(experiment_id):\n",
    "    with mlflow.start_run(run_name=\"PRICE_PREDICTION\",experiment_id=experiment_id) as parent_run:\n",
    "        mlflow.log_param(\"parent\", \"yes\")\n",
    "        with mlflow.start_run(run_name=\"DATA_LOAD\", experiment_id=experiment_id, nested=True) as child_run_1:\n",
    "            %run src/ingest_data.py\n",
    "            mlflow.log_param(key=\"test_split_prop\", value=test_split_prop)\n",
    "            mlflow.log_metric(key=\"train_data_size\", value=train_size)\n",
    "            mlflow.log_metric(key=\"test_data_size\", value=test_size)\n",
    "            mlflow.log_artifact(DATA_PATH)\n",
    "            print(\"Save to: {}\".format(mlflow.get_artifact_uri()))\n",
    "        with mlflow.start_run(run_name=\"MODEL_TRAIN\", experiment_id=experiment_id, nested=True) as child_run_2:\n",
    "            %run src/train.py\n",
    "            mlflow.log_metric(key=\"cv_mse\", value=mean_mse)\n",
    "            mlflow.sklearn.log_model(final_model, \"rf_model\")\n",
    "        with mlflow.start_run(run_name=\"MODEL_SCORE\", experiment_id=experiment_id, nested=True) as child_run_3:\n",
    "            %run src/score.py\n",
    "            mlflow.log_metric(key=\"test_mse\", value=final_mse)\n",
    "            mlflow.log_metric(key=\"test_rmse\", value=final_rmse)\n"
   ]
  },
  {
   "cell_type": "code",
   "execution_count": 10,
   "metadata": {},
   "outputs": [
    {
     "name": "stderr",
     "output_type": "stream",
     "text": [
      "Data Ingestion - Started\n",
      "Data Ingestion - Data Download - Completed\n",
      "Data Ingestion - Data Split - Completed\n",
      "Data Ingestion - Data Imputation - Completed\n",
      "Data Ingestion - Trainng Data - Prepared\n",
      "Data Ingestion - Validation Data - Prepared\n",
      "Data Ingestion - Completed\n",
      "Model Training - Started\n",
      "Model Training - Linear Regression - Completed\n"
     ]
    },
    {
     "name": "stdout",
     "output_type": "stream",
     "text": [
      "Save to: mlruns/805574556194196619/914562ccf7804e26bba1b283999f806b/artifacts\n"
     ]
    },
    {
     "name": "stderr",
     "output_type": "stream",
     "text": [
      "Model Training - Decision Tree - Completed\n",
      "Model Training - Random Forest - Completed\n",
      "Model Training - Hyperparameter Tuning - Completed\n",
      "Model Training - Final Model Saved\n",
      "Model Training - Completed\n",
      "Model Scoring - Started\n",
      "Model Scoring - Data Loading - Completed\n",
      "Model Scoring - Predictions - Generated\n",
      "Model Scoring - Results - Saved\n",
      "Model Scoring - Completed\n"
     ]
    }
   ],
   "source": [
    "run_experiment(experiment_id)"
   ]
  },
  {
   "cell_type": "code",
   "execution_count": null,
   "metadata": {},
   "outputs": [],
   "source": []
  }
 ],
 "metadata": {
  "kernelspec": {
   "display_name": "Python 3.10.8 ('mle-dev')",
   "language": "python",
   "name": "python3"
  },
  "language_info": {
   "codemirror_mode": {
    "name": "ipython",
    "version": 3
   },
   "file_extension": ".py",
   "mimetype": "text/x-python",
   "name": "python",
   "nbconvert_exporter": "python",
   "pygments_lexer": "ipython3",
   "version": "3.10.8"
  },
  "orig_nbformat": 4,
  "vscode": {
   "interpreter": {
    "hash": "5553958d83d47ff276f32448b5b094d09e665c331f12d6855516ff65ea3df122"
   }
  }
 },
 "nbformat": 4,
 "nbformat_minor": 2
}
